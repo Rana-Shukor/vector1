{
  "cells": [
    {
      "cell_type": "markdown",
      "metadata": {
        "id": "view-in-github",
        "colab_type": "text"
      },
      "source": [
        "<a href=\"https://colab.research.google.com/github/Rana-Shukor/vector1/blob/main/Copy_of_Untitled90.ipynb\" target=\"_parent\"><img src=\"https://colab.research.google.com/assets/colab-badge.svg\" alt=\"Open In Colab\"/></a>"
      ]
    },
    {
      "cell_type": "markdown",
      "metadata": {
        "id": "UeGh6JnCKV13"
      },
      "source": [
        "# Optional Assignment: Advanced NumPy and PyTorch Operations with MNIST\n",
        "\n",
        "\n",
        "Description:\n",
        "This optional assignment is designed to enhance your skills in NumPy and PyTorch,\n",
        "focusing on tensor operations using the MNIST dataset. By completing this assignment,\n",
        "you'll gain hands-on experience with advanced tensor manipulations, data preprocessing,\n",
        "and visualization techniques commonly used in deep learning projects.\n",
        "\n",
        "Objectives:\n",
        "1. Practice tensor operations in PyTorch\n",
        "2. Explore data manipulation techniques with the MNIST dataset\n",
        "3. Gain experience in converting between NumPy arrays and PyTorch tensors\n",
        "4. Enhance your understanding of tensor shapes and dimensions\n",
        "\n",
        "Note: This assignment is entirely optional. It's meant to provide additional practice\n",
        "and deepen your understanding of NumPy and PyTorch. Feel free to explore, experiment,\n",
        "and refer to the official documentation as you work through the exercises.\n",
        "\n",
        "Good luck and enjoy the learning process!\n"
      ]
    },
    {
      "cell_type": "code",
      "execution_count": null,
      "metadata": {
        "colab": {
          "background_save": true,
          "base_uri": "https://localhost:8080/"
        },
        "id": "Vyt7fLCkHc8m",
        "outputId": "b6d1cb6a-f75a-4052-c0e8-15e54104232e"
      },
      "outputs": [
        {
          "name": "stdout",
          "output_type": "stream",
          "text": [
            "Random NumPy array:\n",
            "[[0.20736858 0.13999029 0.12441933 0.65059327]\n",
            " [0.59684448 0.88337957 0.64047808 0.90127369]\n",
            " [0.90303538 0.16466123 0.33456546 0.73629332]]\n",
            "\n",
            "Random PyTorch tensor:\n",
            "tensor([[0.3755, 0.4094, 0.5766, 0.9721],\n",
            "        [0.7659, 0.2432, 0.8019, 0.2601],\n",
            "        [0.3321, 0.6434, 0.1362, 0.9586]])\n"
          ]
        }
      ],
      "source": [
        "# NumPy and PyTorch Tensor Operations Assignment\n",
        "\n",
        "import numpy as np\n",
        "import torch\n",
        "import matplotlib.pyplot as plt\n",
        "from torchvision import datasets, transforms\n",
        "\n",
        "# Create a random NumPy array\n",
        "np_random = np.random.rand(3, 4)\n",
        "print(\"Random NumPy array:\")\n",
        "print(np_random)\n",
        "\n",
        "# Create a random PyTorch tensor\n",
        "torch_random = torch.rand(3, 4)\n",
        "print(\"\\nRandom PyTorch tensor:\")\n",
        "print(torch_random)\n",
        "\n"
      ]
    },
    {
      "cell_type": "code",
      "execution_count": 3,
      "metadata": {
        "colab": {
          "base_uri": "https://localhost:8080/"
        },
        "id": "Zw_MnP7GH7pm",
        "outputId": "62a0f4f0-aa76-4e6b-c18b-90991a7c3cdf"
      },
      "outputs": [
        {
          "output_type": "stream",
          "name": "stdout",
          "text": [
            "Random NumPy array:\n",
            "[[0.01365768 0.64820606 0.180545   0.15552041]\n",
            " [0.36855733 0.6938061  0.61044363 0.52415817]\n",
            " [0.93850581 0.66578397 0.33349569 0.38897314]]\n",
            "\n",
            "Random PyTorch tensor:\n",
            "tensor([[0.2331, 0.5286, 0.1812, 0.9967],\n",
            "        [0.7000, 0.3392, 0.5830, 0.9594],\n",
            "        [0.4234, 0.7324, 0.1765, 0.9022]])\n",
            "Reshaped NumPy array:\n",
            "[[0.01365768 0.64820606 0.180545   0.15552041 0.36855733 0.6938061 ]\n",
            " [0.61044363 0.52415817 0.93850581 0.66578397 0.33349569 0.38897314]]\n",
            "\n",
            "Reshaped PyTorch tensor:\n",
            "tensor([[0.2331, 0.5286, 0.1812, 0.9967, 0.7000, 0.3392],\n",
            "        [0.5830, 0.9594, 0.4234, 0.7324, 0.1765, 0.9022]])\n"
          ]
        }
      ],
      "source": [
        "#  Reshaping\n",
        "# Reshape NumPy array\n",
        "import numpy as np\n",
        "import torch\n",
        "import matplotlib.pyplot as plt\n",
        "from torchvision import datasets, transforms\n",
        "\n",
        "# Create a random NumPy array\n",
        "np_random = np.random.rand(3, 4)\n",
        "print(\"Random NumPy array:\")\n",
        "print(np_random)\n",
        "\n",
        "# Create a random PyTorch tensor\n",
        "torch_random = torch.rand(3, 4)\n",
        "print(\"\\nRandom PyTorch tensor:\")\n",
        "print(torch_random)\n",
        "\n",
        "# Assuming np_random is a NumPy array defined earlier\n",
        "np_reshaped = np_random.reshape(2, 6)\n",
        "print(\"Reshaped NumPy array:\")\n",
        "print(np_reshaped)\n",
        "\n",
        "\n",
        "import torch\n",
        "\n",
        "# Assuming torch_random is a PyTorch tensor defined earlier\n",
        "torch_reshaped = torch_random.reshape(2, 6)\n",
        "print(\"\\nReshaped PyTorch tensor:\")\n",
        "print(torch_reshaped)\n",
        "\n"
      ]
    },
    {
      "cell_type": "code",
      "execution_count": 5,
      "metadata": {
        "colab": {
          "base_uri": "https://localhost:8080/"
        },
        "id": "dm4nBKieH7wl",
        "outputId": "c71b5cf6-48cf-498b-ad70-63c6145079e9"
      },
      "outputs": [
        {
          "output_type": "stream",
          "name": "stdout",
          "text": [
            "NumPy array multiplication:\n",
            "[[0.02731536 1.29641213 0.36109001 0.31104083]\n",
            " [0.73711467 1.3876122  1.22088726 1.04831635]\n",
            " [1.87701162 1.33156794 0.66699138 0.77794628]]\n",
            "\n",
            "PyTorch tensor multiplication:\n",
            "tensor([[0.4662, 1.0572, 0.3624, 1.9934],\n",
            "        [1.4001, 0.6784, 1.1660, 1.9188],\n",
            "        [0.8469, 1.4647, 0.3531, 1.8044]])\n"
          ]
        }
      ],
      "source": [
        "# NumPy array multiplication\n",
        "np_mult = np.multiply(np_random, 2)\n",
        "print(\"NumPy array multiplication:\")\n",
        "print(np_mult)\n",
        "\n",
        "# PyTorch tensor multiplication\n",
        "torch_mult = torch.mul(torch_random, 2)\n",
        "print(\"\\nPyTorch tensor multiplication:\")\n",
        "print(torch_mult)"
      ]
    },
    {
      "cell_type": "code",
      "execution_count": 6,
      "metadata": {
        "colab": {
          "base_uri": "https://localhost:8080/"
        },
        "id": "8w3j6Z6PH7z-",
        "outputId": "40b58aae-fda0-4555-b285-417027cf3991"
      },
      "outputs": [
        {
          "output_type": "stream",
          "name": "stdout",
          "text": [
            "Permuted NumPy array:\n",
            "[[0.01365768 0.36855733 0.93850581]\n",
            " [0.64820606 0.6938061  0.66578397]\n",
            " [0.180545   0.61044363 0.33349569]\n",
            " [0.15552041 0.52415817 0.38897314]]\n",
            "\n",
            "Permuted PyTorch tensor:\n",
            "tensor([[0.2331, 0.7000, 0.4234],\n",
            "        [0.5286, 0.3392, 0.7324],\n",
            "        [0.1812, 0.5830, 0.1765],\n",
            "        [0.9967, 0.9594, 0.9022]])\n"
          ]
        }
      ],
      "source": [
        "#  Permute shape\n",
        "# Permute NumPy array\n",
        "np_permuted = np.transpose(np_random, (1, 0))\n",
        "print(\"Permuted NumPy array:\")\n",
        "print(np_permuted)\n",
        "\n",
        "# Permute PyTorch tensor\n",
        "torch_permuted = torch_random.permute(1, 0)\n",
        "print(\"\\nPermuted PyTorch tensor:\")\n",
        "print(torch_permuted)\n"
      ]
    },
    {
      "cell_type": "code",
      "execution_count": 8,
      "metadata": {
        "colab": {
          "base_uri": "https://localhost:8080/"
        },
        "id": "4fGkJdSiH73F",
        "outputId": "088981f9-02a2-4280-b603-36a67be3ee95"
      },
      "outputs": [
        {
          "output_type": "stream",
          "name": "stdout",
          "text": [
            "NumPy to PyTorch:\n",
            "tensor([[1, 2, 3],\n",
            "        [4, 5, 6]])\n",
            "\n",
            "PyTorch to NumPy:\n",
            "[[0.23310786 0.5286056  0.18122256 0.99668396]\n",
            " [0.7000465  0.339199   0.5829938  0.95941454]\n",
            " [0.42343307 0.73235476 0.1765433  0.90220535]]\n"
          ]
        }
      ],
      "source": [
        "# Convert between NumPy and PyTorch\n",
        "# NumPy to PyTorch\n",
        "np_to_torch = torch.from_numpy(np_random)\n",
        "print(\"NumPy to PyTorch:\")\n",
        "print(np_to_torch)\n",
        "\n",
        "# PyTorch to NumPy\n",
        "torch_to_np = torch_random.numpy()\n",
        "print(\"\\nPyTorch to NumPy:\")\n",
        "print(torch_to_np)"
      ]
    },
    {
      "cell_type": "code",
      "execution_count": 16,
      "metadata": {
        "colab": {
          "base_uri": "https://localhost:8080/"
        },
        "id": "M0BQVLMgH753",
        "outputId": "fbb74727-dba8-4964-9b67-45142084be7c"
      },
      "outputs": [
        {
          "output_type": "stream",
          "name": "stdout",
          "text": [
            "Shape of the batch: torch.Size([64, 1, 28, 28])\n",
            "Shape after concatenation: torch.Size([128, 1, 28, 28])\n"
          ]
        }
      ],
      "source": [
        "# NumPy and PyTorch Tensor Operations on MNIST Dataset\n",
        "\n",
        "import numpy as np\n",
        "import torch\n",
        "import matplotlib.pyplot as plt\n",
        "from torchvision import datasets, transforms  # Make sure torchvision is imported\n",
        "import torchvision # Import the entire torchvision module\n",
        "\n",
        "\n",
        "# Load MNIST dataset\n",
        "transform = transforms.Compose([transforms.ToTensor()])\n",
        "mnist_train = datasets.MNIST(root='./data', train=True, download=True, transform=transform)\n",
        "mnist_test = datasets.MNIST(root='./data', train=False, download=True, transform=transform)\n",
        "\n",
        "# Create a batch of MNIST images\n",
        "batch_size = 64\n",
        "train_loader = torch.utils.data.DataLoader(mnist_train, batch_size=batch_size, shuffle=True)\n",
        "images, labels = next(iter(train_loader))\n",
        "print(\"Shape of the batch:\", images.shape)\n",
        "\n",
        "\n",
        "# Concatenation\n",
        "# Concatenate along the batch dimension\n",
        "concat_images = torch.cat((images, images), dim=0)\n",
        "print(\"Shape after concatenation:\", concat_images.shape)\n",
        "# Optional: Visualize concatenated images\n",
        "concat_images_grid = torchvision.utils.make_grid(concat_images, nrow=batch_size)\n",
        "concat_images_grid = concat_images_grid.permute(1, 2, 0)  # Change tensor shape from (C, H, W) to (H, W, C)\n",
        "\n"
      ]
    },
    {
      "cell_type": "code",
      "execution_count": 14,
      "metadata": {
        "colab": {
          "base_uri": "https://localhost:8080/",
          "height": 415
        },
        "id": "J8AnLlS7H789",
        "outputId": "0aa0755e-643e-44fa-a6dc-702eea367ec9"
      },
      "outputs": [
        {
          "output_type": "stream",
          "name": "stdout",
          "text": [
            "Shape after adding dimension: torch.Size([64, 1, 1, 28, 28])\n",
            "Shape after removing dimension: torch.Size([64, 1, 28, 28])\n",
            "Shape of flattened images: torch.Size([64, 784])\n",
            "Shape of first 10 images: torch.Size([10, 1, 28, 28])\n",
            "Shape of first image (all channels): torch.Size([1, 28, 28])\n",
            "Shape of center slice: torch.Size([64, 1, 14, 14])\n"
          ]
        },
        {
          "output_type": "display_data",
          "data": {
            "text/plain": [
              "<Figure size 1500x500 with 3 Axes>"
            ],
            "image/png": "[encoded data removed]"
          },
          "metadata": {}
        },
        {
          "output_type": "stream",
          "name": "stdout",
          "text": [
            "Shape of NumPy array: (64, 1, 28, 28)\n",
            "Shape of PyTorch tensor: torch.Size([64, 1, 28, 28])\n"
          ]
        }
      ],
      "source": [
        "\n",
        "import torch\n",
        "import matplotlib.pyplot as plt\n",
        "from torchvision import datasets, transforms\n",
        "\n",
        "# Load MNIST dataset\n",
        "transform = transforms.Compose([\n",
        "    transforms.ToTensor(),\n",
        "    transforms.Normalize((0.5,), (0.5,))\n",
        "])\n",
        "mnist_train = datasets.MNIST(root='./data', train=True, download=True, transform=transform)\n",
        "train_loader = torch.utils.data.DataLoader(mnist_train, batch_size=64, shuffle=True)\n",
        "\n",
        "# Get a batch of images and labels\n",
        "images, labels = next(iter(train_loader))\n",
        "\n",
        "# Cell 4: Add and remove dimensions\n",
        "# Add a new dimension to the 'images' tensor\n",
        "expanded_images = images.unsqueeze(1)\n",
        "print(\"Shape after adding dimension:\", expanded_images.shape)\n",
        "\n",
        "# Remove the added dimension from 'expanded_images'\n",
        "squeezed_images = expanded_images.squeeze(1)\n",
        "print(\"Shape after removing dimension:\", squeezed_images.shape)\n",
        "\n",
        "# Cell 5: Flatten tensors\n",
        "# Flatten the 'images' tensor to have shape (batch_size, -1)\n",
        "flattened_images = images.view(images.size(0), -1)\n",
        "print(\"Shape of flattened images:\", flattened_images.shape)\n",
        "\n",
        "# Cell 6: Slicing\n",
        "# Get the first 10 images from the 'images' tensor\n",
        "first_10_images = images[:10]\n",
        "print(\"Shape of first 10 images:\", first_10_images.shape)\n",
        "\n",
        "# Get all channels of the first image\n",
        "first_image_all_channels = images[0]\n",
        "print(\"Shape of first image (all channels):\", first_image_all_channels.shape)\n",
        "\n",
        "# Get a 14x14 slice from the center of each image\n",
        "center_slice = images[:, :, 7:21, 7:21]\n",
        "print(\"Shape of center slice:\", center_slice.shape)\n",
        "\n",
        "# Cell 7: Visualize original and manipulated images\n",
        "plt.figure(figsize=(15, 5))\n",
        "\n",
        "# Original image\n",
        "plt.subplot(1, 3, 1)\n",
        "plt.imshow(images[0].squeeze(), cmap='gray')\n",
        "plt.title(\"Original Image\")\n",
        "plt.axis('off')\n",
        "\n",
        "# Flattened and reshaped image\n",
        "plt.subplot(1, 3, 2)\n",
        "plt.imshow(flattened_images[0].view(28, 28), cmap='gray')\n",
        "plt.title(\"Flattened Image\")\n",
        "plt.axis('off')\n",
        "\n",
        "# Center slice\n",
        "plt.subplot(1, 3, 3)\n",
        "plt.imshow(center_slice[0].squeeze(), cmap='gray')\n",
        "plt.title(\"Center Slice\")\n",
        "plt.axis('off')\n",
        "\n",
        "plt.tight_layout()\n",
        "plt.show()\n",
        "\n",
        "# Cell 8: Convert between NumPy and PyTorch\n",
        "# Convert the PyTorch 'images' tensor to a NumPy array\n",
        "np_images = images.numpy()\n",
        "print(\"Shape of NumPy array:\", np_images.shape)\n",
        "\n",
        "# Convert the NumPy array back to a PyTorch tensor\n",
        "torch_images = torch.from_numpy(np_images)\n",
        "print(\"Shape of PyTorch tensor:\", torch_images.shape)\n"
      ]
    },
    {
      "cell_type": "code",
      "execution_count": null,
      "metadata": {
        "id": "pdXcnNq7H7_5"
      },
      "outputs": [],
      "source": []
    },
    {
      "cell_type": "code",
      "execution_count": null,
      "metadata": {
        "id": "md-fJmyRH8DD"
      },
      "outputs": [],
      "source": [
        "\n",
        "\n",
        "\n",
        "\n",
        "\n",
        "\n",
        "\n",
        "\n"
      ]
    }
  ],
  "metadata": {
    "colab": {
      "provenance": [],
      "include_colab_link": true
    },
    "kernelspec": {
      "display_name": "Python 3",
      "name": "python3"
    },
    "language_info": {
      "name": "python"
    }
  },
  "nbformat": 4,
  "nbformat_minor": 0
}