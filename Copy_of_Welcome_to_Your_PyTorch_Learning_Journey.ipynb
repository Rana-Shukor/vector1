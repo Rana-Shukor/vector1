{
  "nbformat": 4,
  "nbformat_minor": 0,
  "metadata": {
    "colab": {
      "provenance": [],
      "include_colab_link": true
    },
    "kernelspec": {
      "name": "python3",
      "display_name": "Python 3"
    },
    "language_info": {
      "name": "python"
    }
  },
  "cells": [
    {
      "cell_type": "markdown",
      "metadata": {
        "id": "view-in-github",
        "colab_type": "text"
      },
      "source": [
        "<a href=\"https://colab.research.google.com/github/Rana-Shukor/vector1/blob/main/Copy_of_Welcome_to_Your_PyTorch_Learning_Journey.ipynb\" target=\"_parent\"><img src=\"https://colab.research.google.com/assets/colab-badge.svg\" alt=\"Open In Colab\"/></a>"
      ]
    },
    {
      "cell_type": "code",
      "source": [],
      "metadata": {
        "id": "PLW4LJef6YEG"
      },
      "execution_count": null,
      "outputs": []
    },
    {
      "cell_type": "markdown",
      "source": [
        "# Welcome to Your PyTorch Learning Journey\n",
        "\n",
        "## Overview\n",
        "\n",
        "This notebook is designed to introduce you to the fundamentals of PyTorch, a powerful and flexible deep learning framework. By working through this notebook, you'll gain hands-on experience in building and training neural networks, a core skill in machine learning and artificial intelligence.\n",
        "\n",
        "## What You'll Learn\n",
        "\n",
        "- **PyTorch Basics:** You'll start by exploring the basic building blocks of PyTorch, including tensors, autograd, and neural network modules.\n",
        "- **Building a Simple Neural Network:** You'll implement a simple feedforward neural network from scratch using PyTorch and learn how to train it on synthetic data.\n",
        "- **Training Loops and Optimization:** You'll understand how to implement the training loop, calculate loss, and update the model's parameters using gradient descent.\n",
        "\n",
        "## Example and Guide\n",
        "\n",
        "As you progress through this notebook, you'll find examples and explanations that will help you understand each concept. Code snippets are provided to demonstrate how to use PyTorch for various tasks. Follow along with the code, and feel free to modify it to see how different changes affect the outcome.\n",
        "\n",
        "## The Assignment\n",
        "\n",
        "After you've familiarized yourself with the basics, you'll be given an assignment to apply what you've learned to a real-world dataset: the MNIST dataset. This assignment will challenge you to build, train, and evaluate a neural network that can classify handwritten digits.\n",
        "\n",
        "The assignment is designed to consolidate your learning and give you practical experience with a common deep learning task. If you're up for an additional challenge, you can also explore more advanced architectures as a bonus.\n",
        "\n",
        "\n",
        "---\n",
        "\n",
        "Let's get started!\n"
      ],
      "metadata": {
        "id": "ttQxXTM35q3u"
      }
    },
    {
      "cell_type": "code",
      "source": [
        "import torch\n",
        "import torch.nn as nn\n",
        "import matplotlib.pyplot as plt\n",
        "import numpy as np\n"
      ],
      "metadata": {
        "id": "MN_pM7-r3Hal"
      },
      "execution_count": null,
      "outputs": []
    },
    {
      "cell_type": "markdown",
      "source": [
        "# Define the Neural Network Model\n",
        "\n",
        "Here, we define a simple neural network class `SimpleNet` using PyTorch's `nn.Module`. This network consists of four linear layers with ReLU activations applied after each layer, except the final output layer.\n"
      ],
      "metadata": {
        "id": "SQLaiujf3eJL"
      }
    },
    {
      "cell_type": "code",
      "source": [
        "import torch\n",
        "import torch.nn as nn\n",
        "\n",
        "class SimpleNet(nn.Module):\n",
        "    def __init__(self, hidden_size1, hidden_size2):\n",
        "        super(SimpleNet, self).__init__()\n",
        "        self.layer1 = nn.Linear(1, hidden_size1)\n",
        "        self.layer2 = nn.Linear(hidden_size1, hidden_size2)\n",
        "        self.layer3 = nn.Linear(hidden_size2, hidden_size2)\n",
        "        self.layer4 = nn.Linear(hidden_size2, 1)\n",
        "        self.relu = nn.ReLU()\n",
        "\n",
        "    def forward(self, x):\n",
        "        x = self.relu(self.layer1(x))\n",
        "        x = self.relu(self.layer2(x))\n",
        "        x = self.relu(self.layer3(x))\n",
        "        x = self.layer4(x)\n",
        "        return x\n",
        "\n",
        "# Example of usage:\n",
        "# model = SimpleNet(hidden_size1=10, hidden_size2=5)\n",
        "# input = torch.randn(1, 1)  # Example input tensor\n",
        "# output = model(input)\n",
        "# print(output)\n"
      ],
      "metadata": {
        "id": "p6ihTRHn3hyW"
      },
      "execution_count": null,
      "outputs": []
    },
    {
      "cell_type": "markdown",
      "source": [
        "# Create a Model Wrapper Class\n",
        "\n",
        "The `ModelWrapper` class is used to encapsulate the model, loss function, and optimizer. This allows for easier management of the forward and backward passes during training.\n"
      ],
      "metadata": {
        "id": "mZtj09-y3oFj"
      }
    },
    {
      "cell_type": "code",
      "source": [
        "class ModelWrapper:\n",
        "    def __init__(self, model, loss_fn, optimizer):\n",
        "        self.model = model\n",
        "        self.loss_fn = loss_fn\n",
        "        self.optimizer = optimizer\n",
        "\n",
        "    def forward(self, inputs):\n",
        "        return self.model(inputs)\n",
        "\n",
        "    def backward(self, loss):\n",
        "        self.optimizer.zero_grad()\n",
        "        loss.backward()\n",
        "        self.optimizer.step()\n"
      ],
      "metadata": {
        "id": "YXVThKjs3Ib4"
      },
      "execution_count": 1,
      "outputs": []
    },
    {
      "cell_type": "markdown",
      "source": [
        "# Generate Synthetic Data\n",
        "\n",
        "In this section, we define a function to generate synthetic data. The data has a linear relationship with added noise, and the target variable `y` is cubed to introduce non-linearity.\n"
      ],
      "metadata": {
        "id": "VGElY9dS3yR-"
      }
    },
    {
      "cell_type": "code",
      "source": [
        "def generate_data(num_samples):\n",
        "    x = torch.randn(num_samples, 1)\n",
        "    y = 0.5 * x + 0.1 * torch.randn(num_samples, 1)  # Create correlation\n",
        "    y = y**3  # Raise y to cubic power\n",
        "    return x, y\n"
      ],
      "metadata": {
        "id": "5t4jAbjA31Go"
      },
      "execution_count": null,
      "outputs": []
    },
    {
      "cell_type": "markdown",
      "source": [
        "# Initialize the Model, Loss Function, and Optimizer\n",
        "\n",
        "Here, we initialize the `SimpleNet` model with specified hidden layer sizes. We also define the Mean Squared Error (MSE) loss function and the Adam optimizer with a learning rate of 0.01.\n"
      ],
      "metadata": {
        "id": "ZIiqnqUR33Eu"
      }
    },
    {
      "cell_type": "code",
      "source": [
        "hidden_size1 = 32\n",
        "hidden_size2 = 32\n",
        "\n",
        "model = SimpleNet(hidden_size1, hidden_size2)\n",
        "loss_fn = nn.MSELoss()\n",
        "optimizer = torch.optim.Adam(model.parameters(), lr=0.01)\n",
        "\n",
        "wrapper = ModelWrapper(model, loss_fn, optimizer)\n"
      ],
      "metadata": {
        "id": "C6Qx0Sbp37Te"
      },
      "execution_count": null,
      "outputs": []
    },
    {
      "cell_type": "markdown",
      "source": [
        "# Train the Model\n",
        "\n",
        "This cell contains the training loop, where the model is trained for a specified number of epochs. During each epoch, the forward and backward passes are performed, and the loss is printed every two epochs.\n"
      ],
      "metadata": {
        "id": "_OFbuv7h4Cu1"
      }
    },
    {
      "cell_type": "code",
      "source": [
        "num_epochs = 10\n",
        "num_samples = 100\n",
        "x, y = generate_data(num_samples)\n",
        "\n",
        "for epoch in range(num_epochs):\n",
        "    # Explicit forward pass\n",
        "    outputs = wrapper.forward(x)\n",
        "    loss = loss_fn(outputs, y)\n",
        "\n",
        "    # Explicit backward pass\n",
        "    wrapper.backward(loss)\n",
        "\n",
        "    if (epoch + 1) % 2 == 0:\n",
        "        print(f\"Epoch [{epoch+1}/{num_epochs}], Loss: {loss.item():.4f}\")\n"
      ],
      "metadata": {
        "colab": {
          "base_uri": "https://localhost:8080/"
        },
        "id": "F4Wm2qaH39lt",
        "outputId": "6ebe3219-b7b1-42bf-9c4d-fd0ac4c3ec7e"
      },
      "execution_count": null,
      "outputs": [
        {
          "output_type": "stream",
          "name": "stdout",
          "text": [
            "Epoch [2/10], Loss: 0.0250\n",
            "Epoch [4/10], Loss: 0.0224\n",
            "Epoch [6/10], Loss: 0.0205\n",
            "Epoch [8/10], Loss: 0.0202\n",
            "Epoch [10/10], Loss: 0.0199\n"
          ]
        }
      ]
    },
    {
      "cell_type": "markdown",
      "source": [
        "# Plot the Results with Seaborn\n",
        "\n",
        "In this optional cell, we use Seaborn to visualize the original data and the model's predictions after training. Seaborn provides a more visually appealing style to the plots.\n"
      ],
      "metadata": {
        "id": "I78O15_B4MOl"
      }
    },
    {
      "cell_type": "code",
      "source": [
        "import torch\n",
        "import seaborn as sns\n",
        "import matplotlib.pyplot as plt\n",
        "\n",
        "# Set seaborn style\n",
        "sns.set(style=\"whitegrid\")\n",
        "\n",
        "# Assume model, x, and y are already defined and x is your input tensor\n",
        "\n",
        "# Set model to evaluation mode\n",
        "model.eval()\n",
        "\n",
        "# Disable gradient calculation\n",
        "with torch.no_grad():\n",
        "    predicted = model(x).detach().numpy()\n",
        "\n",
        "# Create a scatter plot of the original data\n",
        "sns.scatterplot(x=x.numpy().flatten(), y=y.numpy().flatten(), color='red', label='Original data')\n",
        "\n",
        "# Create a line plot of the model's predictions\n",
        "sns.lineplot(x=x.numpy().flatten(), y=predicted.flatten(), color='blue', label='Fitted line')\n",
        "\n",
        "# Add title and labels\n",
        "plt.title('Model Predictions vs. Original Data')\n",
        "plt.xlabel('Input (x)')\n",
        "plt.ylabel('Output (y)')"
      ],
      "metadata": {
        "colab": {
          "base_uri": "https://localhost:8080/",
          "height": 211
        },
        "id": "___zXQa22ugn",
        "outputId": "77b1d43e-4401-4b13-c393-5f21c239f88e"
      },
      "execution_count": null,
      "outputs": [
        {
          "output_type": "error",
          "ename": "NameError",
          "evalue": "name 'model' is not defined",
          "traceback": [
            "\u001b[0;31m---------------------------------------------------------------------------\u001b[0m",
            "\u001b[0;31mNameError\u001b[0m                                 Traceback (most recent call last)",
            "\u001b[0;32m<ipython-input-12-1ab812f9b16c>\u001b[0m in \u001b[0;36m<cell line: 11>\u001b[0;34m()\u001b[0m\n\u001b[1;32m      9\u001b[0m \u001b[0;34m\u001b[0m\u001b[0m\n\u001b[1;32m     10\u001b[0m \u001b[0;31m# Set model to evaluation mode\u001b[0m\u001b[0;34m\u001b[0m\u001b[0;34m\u001b[0m\u001b[0m\n\u001b[0;32m---> 11\u001b[0;31m \u001b[0mmodel\u001b[0m\u001b[0;34m.\u001b[0m\u001b[0meval\u001b[0m\u001b[0;34m(\u001b[0m\u001b[0;34m)\u001b[0m\u001b[0;34m\u001b[0m\u001b[0;34m\u001b[0m\u001b[0m\n\u001b[0m\u001b[1;32m     12\u001b[0m \u001b[0;34m\u001b[0m\u001b[0m\n\u001b[1;32m     13\u001b[0m \u001b[0;31m# Disable gradient calculation\u001b[0m\u001b[0;34m\u001b[0m\u001b[0;34m\u001b[0m\u001b[0m\n",
            "\u001b[0;31mNameError\u001b[0m: name 'model' is not defined"
          ]
        }
      ]
    },
    {
      "cell_type": "markdown",
      "source": [
        "# Your Next Task: Train a Neural Network on the MNIST Dataset\n",
        "\n",
        "Now that you've explored the basics of PyTorch and built a simple model, it's time to apply your knowledge to a more practical example. A common and classic task in deep learning is to train a model on the MNIST dataset, which contains handwritten digits.\n",
        "\n",
        "## Steps to Follow:\n",
        "\n",
        "1. **Download and Prepare the MNIST Dataset:**\n",
        "   - Use PyTorch's `torchvision` library to download and preprocess the MNIST dataset.\n",
        "\n",
        "2. **Define a Neural Network:**\n",
        "   - Create a simple neural network that is suitable for classifying the 28x28 pixel images of handwritten digits.\n",
        "\n",
        "3. **Train the Model:**\n",
        "   - Implement the training loop, train the model on the MNIST dataset, and monitor the training loss.\n",
        "   - Use the trained model to make predictions on the test dataset.\n",
        "\n",
        "4. **Evaluate and Visualize Results:**\n",
        "   - Evaluate the model's performance on the test dataset and visualize some of the predictions.\n",
        "\n",
        "## Helpful Tips:\n",
        "\n",
        "- **Start Simple:** Focus on building a basic neural network architecture, such as a few fully connected layers.\n",
        "- **Experiment:** Try different optimizers, learning rates, and network architectures to see how they affect performance.\n",
        "- **Visualize:** Use `seaborn` or `matplotlib` to visualize the loss over time and the model's predictions.\n",
        "\n",
        "## Bonus (Optional):\n",
        "\n",
        "If you're feeling adventurous, you can try implementing a Convolutional Neural Network (CNN) for this task as an additional challenge. CNNs are particularly well-suited for image data and may improve your model's performance.\n",
        "\n",
        "## Need Help?\n",
        "\n",
        "If you need help getting started, feel free to ask questions, and I'll guide you through the process!\n"
      ],
      "metadata": {
        "id": "ZQoX7gK55VfP"
      }
    },
    {
      "cell_type": "code",
      "source": [
        "import torch\n",
        "import torch.nn as nn\n",
        "import torch.optim as optim\n",
        "import torch.nn.functional as F\n",
        "from torchvision import datasets, transforms\n",
        "from torch.utils.data import DataLoader\n",
        "import matplotlib.pyplot as plt\n",
        "\n",
        "# Step 1: Download and Prepare the MNIST Dataset\n",
        "transform = transforms.Compose([\n",
        "    transforms.ToTensor(),\n",
        "    transforms.Normalize((0.1307,), (0.3081,))\n",
        "])\n",
        "\n",
        "train_dataset = datasets.MNIST(root='./data', train=True, download=True, transform=transform)\n",
        "test_dataset = datasets.MNIST(root='./data', train=False, download=True, transform=transform)\n",
        "\n",
        "train_loader = DataLoader(train_dataset, batch_size=64, shuffle=True)\n",
        "test_loader = DataLoader(test_dataset, batch_size=1000, shuffle=False)\n",
        "\n",
        "# Step 2: Define a Neural Network\n",
        "class Net(nn.Module):\n",
        "    def __init__(self):\n",
        "        super(Net, self).__init__()\n",
        "        self.fc1 = nn.Linear(28 * 28, 128)  # First fully connected layer\n",
        "        self.fc2 = nn.Linear(128, 64)       # Second fully connected layer\n",
        "        self.fc3 = nn.Linear(64, 10)        # Output layer\n",
        "\n",
        "    def forward(self, x):\n",
        "        x = x.view(-1, 28 * 28)  # Flatten the input tensor\n",
        "        x = F.relu(self.fc1(x))\n",
        "        x = F.relu(self.fc2(x))\n",
        "        x = self.fc3(x)\n",
        "        return x\n",
        "\n",
        "# Step 3: Train the Model\n",
        "model = Net()\n",
        "criterion = nn.CrossEntropyLoss()\n",
        "optimizer = optim.SGD(model.parameters(), lr=0.01, momentum=0.9)\n",
        "\n",
        "epochs = 10\n",
        "for epoch in range(epochs):\n",
        "    running_loss = 0.0\n",
        "    for images, labels in train_loader:\n",
        "        optimizer.zero_grad()\n",
        "        outputs = model(images)\n",
        "        loss = criterion(outputs, labels)\n",
        "        loss.backward()\n",
        "        optimizer.step()\n",
        "\n",
        "        running_loss += loss.item()\n",
        "\n",
        "    print(f\"Epoch {epoch + 1}, Loss: {running_loss / len(train_loader)}\")\n",
        "\n",
        "print('Finished Training')\n",
        "\n",
        "# Step 4: Evaluate and Visualize Results\n",
        "correct = 0\n",
        "total = 0\n",
        "with torch.no_grad():\n",
        "    for images, labels in test_loader:\n",
        "        outputs = model(images)\n",
        "        _, predicted = torch.max(outputs.data, 1)\n",
        "        total += labels.size(0)\n",
        "        correct += (predicted == labels).sum().item()\n",
        "\n",
        "print(f'Accuracy of the network on the 10000 test images: {100 * correct / total}%')\n",
        "\n",
        "# Visualize some predictions\n",
        "examples = enumerate(test_loader)\n",
        "batch_idx, (example_data, example_targets) = next(examples)\n",
        "\n",
        "with torch.no_grad():\n",
        "    output = model(example_data)\n",
        "\n",
        "fig = plt.figure()\n",
        "for i in range(6):\n",
        "    plt.subplot(2,3,i+1)\n",
        "    plt.tight_layout()\n",
        "    plt.imshow(example_data[i][0], cmap='gray', interpolation='none')\n",
        "    plt.title(f\"Prediction: {output.data.max(1, keepdim=True)[1][i].item()}\")\n",
        "    plt.xticks([])\n",
        "    plt.yticks([])\n",
        "plt.show()\n"
      ],
      "metadata": {
        "colab": {
          "base_uri": "https://localhost:8080/",
          "height": 1000
        },
        "id": "Md0zv5MoX0dN",
        "outputId": "72aa4637-4e64-4c43-8e86-e7a1f2783f06"
      },
      "execution_count": 2,
      "outputs": [
        {
          "output_type": "stream",
          "name": "stdout",
          "text": [
            "Downloading http://yann.lecun.com/exdb/mnist/train-images-idx3-ubyte.gz\n",
            "Failed to download (trying next):\n",
            "HTTP Error 403: Forbidden\n",
            "\n",
            "Downloading https://ossci-datasets.s3.amazonaws.com/mnist/train-images-idx3-ubyte.gz\n",
            "Downloading https://ossci-datasets.s3.amazonaws.com/mnist/train-images-idx3-ubyte.gz to ./data/MNIST/raw/train-images-idx3-ubyte.gz\n"
          ]
        },
        {
          "output_type": "stream",
          "name": "stderr",
          "text": [
            "100%|██████████| 9912422/9912422 [00:00<00:00, 52173048.73it/s]\n"
          ]
        },
        {
          "output_type": "stream",
          "name": "stdout",
          "text": [
            "Extracting ./data/MNIST/raw/train-images-idx3-ubyte.gz to ./data/MNIST/raw\n",
            "\n",
            "Downloading http://yann.lecun.com/exdb/mnist/train-labels-idx1-ubyte.gz\n",
            "Failed to download (trying next):\n",
            "HTTP Error 403: Forbidden\n",
            "\n",
            "Downloading https://ossci-datasets.s3.amazonaws.com/mnist/train-labels-idx1-ubyte.gz\n",
            "Downloading https://ossci-datasets.s3.amazonaws.com/mnist/train-labels-idx1-ubyte.gz to ./data/MNIST/raw/train-labels-idx1-ubyte.gz\n"
          ]
        },
        {
          "output_type": "stream",
          "name": "stderr",
          "text": [
            "100%|██████████| 28881/28881 [00:00<00:00, 1851265.30it/s]"
          ]
        },
        {
          "output_type": "stream",
          "name": "stdout",
          "text": [
            "Extracting ./data/MNIST/raw/train-labels-idx1-ubyte.gz to ./data/MNIST/raw\n",
            "\n",
            "Downloading http://yann.lecun.com/exdb/mnist/t10k-images-idx3-ubyte.gz\n"
          ]
        },
        {
          "output_type": "stream",
          "name": "stderr",
          "text": [
            "\n"
          ]
        },
        {
          "output_type": "stream",
          "name": "stdout",
          "text": [
            "Failed to download (trying next):\n",
            "HTTP Error 403: Forbidden\n",
            "\n",
            "Downloading https://ossci-datasets.s3.amazonaws.com/mnist/t10k-images-idx3-ubyte.gz\n",
            "Downloading https://ossci-datasets.s3.amazonaws.com/mnist/t10k-images-idx3-ubyte.gz to ./data/MNIST/raw/t10k-images-idx3-ubyte.gz\n"
          ]
        },
        {
          "output_type": "stream",
          "name": "stderr",
          "text": [
            "100%|██████████| 1648877/1648877 [00:00<00:00, 13730888.23it/s]\n"
          ]
        },
        {
          "output_type": "stream",
          "name": "stdout",
          "text": [
            "Extracting ./data/MNIST/raw/t10k-images-idx3-ubyte.gz to ./data/MNIST/raw\n",
            "\n",
            "Downloading http://yann.lecun.com/exdb/mnist/t10k-labels-idx1-ubyte.gz\n",
            "Failed to download (trying next):\n",
            "HTTP Error 403: Forbidden\n",
            "\n",
            "Downloading https://ossci-datasets.s3.amazonaws.com/mnist/t10k-labels-idx1-ubyte.gz\n",
            "Downloading https://ossci-datasets.s3.amazonaws.com/mnist/t10k-labels-idx1-ubyte.gz to ./data/MNIST/raw/t10k-labels-idx1-ubyte.gz\n"
          ]
        },
        {
          "output_type": "stream",
          "name": "stderr",
          "text": [
            "100%|██████████| 4542/4542 [00:00<00:00, 2439560.61it/s]"
          ]
        },
        {
          "output_type": "stream",
          "name": "stdout",
          "text": [
            "Extracting ./data/MNIST/raw/t10k-labels-idx1-ubyte.gz to ./data/MNIST/raw\n",
            "\n"
          ]
        },
        {
          "output_type": "stream",
          "name": "stderr",
          "text": [
            "\n"
          ]
        },
        {
          "output_type": "stream",
          "name": "stdout",
          "text": [
            "Epoch 1, Loss: 0.3174275370108198\n",
            "Epoch 2, Loss: 0.11408259926923811\n",
            "Epoch 3, Loss: 0.07768425989949675\n",
            "Epoch 4, Loss: 0.05824597531766779\n",
            "Epoch 5, Loss: 0.04504476029881096\n",
            "Epoch 6, Loss: 0.03493890396035366\n",
            "Epoch 7, Loss: 0.02829883431179026\n",
            "Epoch 8, Loss: 0.02158000177506711\n",
            "Epoch 9, Loss: 0.01638097787347398\n",
            "Epoch 10, Loss: 0.01280639520058518\n",
            "Finished Training\n",
            "Accuracy of the network on the 10000 test images: 97.74%\n"
          ]
        },
        {
          "output_type": "display_data",
          "data": {
            "text/plain": [
              "<Figure size 640x480 with 6 Axes>"
            ],
            "image/png": "[encoded data removed]"
          },
          "metadata": {}
        }
      ]
    }
  ]
}