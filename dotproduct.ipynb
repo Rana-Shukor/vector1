{
  "nbformat": 4,
  "nbformat_minor": 0,
  "metadata": {
    "colab": {
      "provenance": [],
      "include_colab_link": true
    },
    "kernelspec": {
      "name": "python3",
      "display_name": "Python 3"
    },
    "language_info": {
      "name": "python"
    }
  },
  "cells": [
    {
      "cell_type": "markdown",
      "metadata": {
        "id": "view-in-github",
        "colab_type": "text"
      },
      "source": [
        "<a href=\"https://colab.research.google.com/github/Rana-Shukor/vector1/blob/main/dotproduct.ipynb\" target=\"_parent\"><img src=\"https://colab.research.google.com/assets/colab-badge.svg\" alt=\"Open In Colab\"/></a>"
      ]
    },
    {
      "cell_type": "code",
      "execution_count": null,
      "metadata": {
        "colab": {
          "base_uri": "https://localhost:8080/"
        },
        "id": "1NbBP0jmy3Q5",
        "outputId": "1c8dd79f-fb16-466d-b53f-5af417f3d18f"
      },
      "outputs": [
        {
          "output_type": "stream",
          "name": "stdout",
          "text": [
            "Dot product using NumPy: Ellipsis\n"
          ]
        }
      ],
      "source": [
        "# Cell 1: Dot Product Operation using NumPy\n",
        "\n",
        "import numpy as np\n",
        "\n",
        "# Question: What is the dot product operation, and how is it implemented in NumPy?\n",
        "\n",
        "# Your code here\n",
        "vector1 = np.array([1, 2, 3])\n",
        "vector2 = np.array([4, 5, 6])\n",
        "\n",
        "# Calculate dot product using NumPy\n",
        "dot_product_numpy = ...\n",
        "\n",
        "\n",
        "\n",
        "print(f\"Dot product using NumPy: {dot_product_numpy}\")\n"
      ]
    },
    {
      "cell_type": "code",
      "source": [
        "\n",
        "# Cell 2: Cosine Similarity Implementation\n",
        "\n",
        "# Implement cosine similarity using the dot product\n",
        "def cosine_similarity(v1, v2):\n",
        "  pass #your code here\n",
        "\n",
        "# Example vectors\n",
        "vector_a = np.array([1, 2, 3])\n",
        "vector_b = np.array([4, 5, 6])\n",
        "\n",
        "similarity = cosine_similarity(vector_a, vector_b)\n",
        "print(f\"Cosine similarity: {similarity}\")\n",
        "\n"
      ],
      "metadata": {
        "colab": {
          "base_uri": "https://localhost:8080/"
        },
        "id": "Rmb_-tsCzDOz",
        "outputId": "3d6010bd-ed5f-4d8b-9413-80a0496dbad2"
      },
      "execution_count": null,
      "outputs": [
        {
          "output_type": "stream",
          "name": "stdout",
          "text": [
            "Cosine similarity: None\n"
          ]
        }
      ]
    },
    {
      "cell_type": "code",
      "source": [
        "# Cell 3: Word Embedding Example with Advanced Model\n",
        "\n",
        "!pip install sentence-transformers\n",
        "\n",
        "import numpy as np\n",
        "from sentence_transformers import SentenceTransformer\n",
        "\n",
        "# Load a more advanced pre-trained model\n",
        "model = SentenceTransformer('all-MiniLM-L6-v2')\n",
        "\n",
        "def get_sentence_embedding(sentence):\n",
        "    return model.encode(sentence)\n",
        "\n",
        "def cosine_similarity(v1, v2):\n",
        "    return np.dot(v1, v2) / (np.linalg.norm(v1) * np.linalg.norm(v2))\n",
        "\n",
        "def dot_product_similarity(v1, v2):\n",
        "    return np.dot(v1, v2)\n",
        "\n",
        "# Function to compare sentences\n",
        "def compare_sentences(sentence1, sentence2):\n",
        "    embedding1 = get_sentence_embedding(sentence1)\n",
        "    embedding2 = get_sentence_embedding(sentence2)\n",
        "\n",
        "    cosine_sim = cosine_similarity(embedding1, embedding2)\n",
        "    dot_sim = dot_product_similarity(embedding1, embedding2)\n",
        "\n",
        "    print(f\"Sentence 1: '{sentence1}'\")\n",
        "    print(f\"Sentence 2: '{sentence2}'\")\n",
        "    print(f\"Cosine similarity: {cosine_sim:.4f}\")\n",
        "    print(f\"Dot product similarity: {dot_sim:.4f}\")\n",
        "    print()\n",
        "\n",
        "# Example usage\n",
        "compare_sentences(\"I love programming\", \"I enjoy coding\")\n",
        "compare_sentences(\"dogs are better than cats\", \"cat is funny!\")\n",
        "compare_sentences(\"I love pizza\", \"I hate vegetables\")\n",
        "compare_sentences(\"im a doctor\", \"sell some phones!\")\n",
        "\n",
        "# Task for users:\n",
        "print(\"Now it's your turn! Try comparing different sentences and have fun exploring similarities!\")\n",
        "print(\"1. Compare sentences with similar meanings but different words.\")\n",
        "print(\"2. Try sentences with the same words in different orders.\")\n",
        "print(\"3. Experiment with sentences from different domains or languages.\")\n",
        "\n",
        "\n",
        "\n",
        "\n",
        "# Reflection questions:\n",
        "print(\"\\nReflection questions:\")\n",
        "print(\"1. How do cosine similarity and dot product similarity yield identical results in the given examples? What does this reveal about their mathematical properties?\")\n",
        "print(\"2. What types of sentences seem to have high similarity? Low similarity?\")\n"
      ],
      "metadata": {
        "colab": {
          "base_uri": "https://localhost:8080/"
        },
        "id": "Nt-vRA3Wzccm",
        "outputId": "260460a8-e541-492c-dbfe-6d49fc850ef4"
      },
      "execution_count": null,
      "outputs": [
        {
          "output_type": "stream",
          "name": "stdout",
          "text": [
            "Requirement already satisfied: sentence-transformers in /usr/local/lib/python3.10/dist-packages (3.0.1)\n",
            "Requirement already satisfied: transformers<5.0.0,>=4.34.0 in /usr/local/lib/python3.10/dist-packages (from sentence-transformers) (4.41.2)\n",
            "Requirement already satisfied: tqdm in /usr/local/lib/python3.10/dist-packages (from sentence-transformers) (4.66.4)\n",
            "Requirement already satisfied: torch>=1.11.0 in /usr/local/lib/python3.10/dist-packages (from sentence-transformers) (2.3.0+cu121)\n",
            "Requirement already satisfied: numpy in /usr/local/lib/python3.10/dist-packages (from sentence-transformers) (1.25.2)\n",
            "Requirement already satisfied: scikit-learn in /usr/local/lib/python3.10/dist-packages (from sentence-transformers) (1.2.2)\n",
            "Requirement already satisfied: scipy in /usr/local/lib/python3.10/dist-packages (from sentence-transformers) (1.11.4)\n",
            "Requirement already satisfied: huggingface-hub>=0.15.1 in /usr/local/lib/python3.10/dist-packages (from sentence-transformers) (0.23.4)\n",
            "Requirement already satisfied: Pillow in /usr/local/lib/python3.10/dist-packages (from sentence-transformers) (9.4.0)\n",
            "Requirement already satisfied: filelock in /usr/local/lib/python3.10/dist-packages (from huggingface-hub>=0.15.1->sentence-transformers) (3.15.4)\n",
            "Requirement already satisfied: fsspec>=2023.5.0 in /usr/local/lib/python3.10/dist-packages (from huggingface-hub>=0.15.1->sentence-transformers) (2023.6.0)\n",
            "Requirement already satisfied: packaging>=20.9 in /usr/local/lib/python3.10/dist-packages (from huggingface-hub>=0.15.1->sentence-transformers) (24.1)\n",
            "Requirement already satisfied: pyyaml>=5.1 in /usr/local/lib/python3.10/dist-packages (from huggingface-hub>=0.15.1->sentence-transformers) (6.0.1)\n",
            "Requirement already satisfied: requests in /usr/local/lib/python3.10/dist-packages (from huggingface-hub>=0.15.1->sentence-transformers) (2.31.0)\n",
            "Requirement already satisfied: typing-extensions>=3.7.4.3 in /usr/local/lib/python3.10/dist-packages (from huggingface-hub>=0.15.1->sentence-transformers) (4.12.2)\n",
            "Requirement already satisfied: sympy in /usr/local/lib/python3.10/dist-packages (from torch>=1.11.0->sentence-transformers) (1.12.1)\n",
            "Requirement already satisfied: networkx in /usr/local/lib/python3.10/dist-packages (from torch>=1.11.0->sentence-transformers) (3.3)\n",
            "Requirement already satisfied: jinja2 in /usr/local/lib/python3.10/dist-packages (from torch>=1.11.0->sentence-transformers) (3.1.4)\n",
            "Requirement already satisfied: nvidia-cuda-nvrtc-cu12==12.1.105 in /usr/local/lib/python3.10/dist-packages (from torch>=1.11.0->sentence-transformers) (12.1.105)\n",
            "Requirement already satisfied: nvidia-cuda-runtime-cu12==12.1.105 in /usr/local/lib/python3.10/dist-packages (from torch>=1.11.0->sentence-transformers) (12.1.105)\n",
            "Requirement already satisfied: nvidia-cuda-cupti-cu12==12.1.105 in /usr/local/lib/python3.10/dist-packages (from torch>=1.11.0->sentence-transformers) (12.1.105)\n",
            "Requirement already satisfied: nvidia-cudnn-cu12==8.9.2.26 in /usr/local/lib/python3.10/dist-packages (from torch>=1.11.0->sentence-transformers) (8.9.2.26)\n",
            "Requirement already satisfied: nvidia-cublas-cu12==12.1.3.1 in /usr/local/lib/python3.10/dist-packages (from torch>=1.11.0->sentence-transformers) (12.1.3.1)\n",
            "Requirement already satisfied: nvidia-cufft-cu12==11.0.2.54 in /usr/local/lib/python3.10/dist-packages (from torch>=1.11.0->sentence-transformers) (11.0.2.54)\n",
            "Requirement already satisfied: nvidia-curand-cu12==10.3.2.106 in /usr/local/lib/python3.10/dist-packages (from torch>=1.11.0->sentence-transformers) (10.3.2.106)\n",
            "Requirement already satisfied: nvidia-cusolver-cu12==11.4.5.107 in /usr/local/lib/python3.10/dist-packages (from torch>=1.11.0->sentence-transformers) (11.4.5.107)\n",
            "Requirement already satisfied: nvidia-cusparse-cu12==12.1.0.106 in /usr/local/lib/python3.10/dist-packages (from torch>=1.11.0->sentence-transformers) (12.1.0.106)\n",
            "Requirement already satisfied: nvidia-nccl-cu12==2.20.5 in /usr/local/lib/python3.10/dist-packages (from torch>=1.11.0->sentence-transformers) (2.20.5)\n",
            "Requirement already satisfied: nvidia-nvtx-cu12==12.1.105 in /usr/local/lib/python3.10/dist-packages (from torch>=1.11.0->sentence-transformers) (12.1.105)\n",
            "Requirement already satisfied: triton==2.3.0 in /usr/local/lib/python3.10/dist-packages (from torch>=1.11.0->sentence-transformers) (2.3.0)\n",
            "Requirement already satisfied: nvidia-nvjitlink-cu12 in /usr/local/lib/python3.10/dist-packages (from nvidia-cusolver-cu12==11.4.5.107->torch>=1.11.0->sentence-transformers) (12.5.82)\n",
            "Requirement already satisfied: regex!=2019.12.17 in /usr/local/lib/python3.10/dist-packages (from transformers<5.0.0,>=4.34.0->sentence-transformers) (2024.5.15)\n",
            "Requirement already satisfied: tokenizers<0.20,>=0.19 in /usr/local/lib/python3.10/dist-packages (from transformers<5.0.0,>=4.34.0->sentence-transformers) (0.19.1)\n",
            "Requirement already satisfied: safetensors>=0.4.1 in /usr/local/lib/python3.10/dist-packages (from transformers<5.0.0,>=4.34.0->sentence-transformers) (0.4.3)\n",
            "Requirement already satisfied: joblib>=1.1.1 in /usr/local/lib/python3.10/dist-packages (from scikit-learn->sentence-transformers) (1.4.2)\n",
            "Requirement already satisfied: threadpoolctl>=2.0.0 in /usr/local/lib/python3.10/dist-packages (from scikit-learn->sentence-transformers) (3.5.0)\n",
            "Requirement already satisfied: MarkupSafe>=2.0 in /usr/local/lib/python3.10/dist-packages (from jinja2->torch>=1.11.0->sentence-transformers) (2.1.5)\n",
            "Requirement already satisfied: charset-normalizer<4,>=2 in /usr/local/lib/python3.10/dist-packages (from requests->huggingface-hub>=0.15.1->sentence-transformers) (3.3.2)\n",
            "Requirement already satisfied: idna<4,>=2.5 in /usr/local/lib/python3.10/dist-packages (from requests->huggingface-hub>=0.15.1->sentence-transformers) (3.7)\n",
            "Requirement already satisfied: urllib3<3,>=1.21.1 in /usr/local/lib/python3.10/dist-packages (from requests->huggingface-hub>=0.15.1->sentence-transformers) (2.0.7)\n",
            "Requirement already satisfied: certifi>=2017.4.17 in /usr/local/lib/python3.10/dist-packages (from requests->huggingface-hub>=0.15.1->sentence-transformers) (2024.6.2)\n",
            "Requirement already satisfied: mpmath<1.4.0,>=1.1.0 in /usr/local/lib/python3.10/dist-packages (from sympy->torch>=1.11.0->sentence-transformers) (1.3.0)\n",
            "Sentence 1: 'I love programming'\n",
            "Sentence 2: 'I enjoy coding'\n",
            "Cosine similarity: 0.8172\n",
            "Dot product similarity: 0.8172\n",
            "\n",
            "Sentence 1: 'dogs are better than cats'\n",
            "Sentence 2: 'cat is funny!'\n",
            "Cosine similarity: 0.5516\n",
            "Dot product similarity: 0.5516\n",
            "\n",
            "Sentence 1: 'I love pizza'\n",
            "Sentence 2: 'I hate vegetables'\n",
            "Cosine similarity: 0.4334\n",
            "Dot product similarity: 0.4334\n",
            "\n",
            "Sentence 1: 'im a doctor'\n",
            "Sentence 2: 'sell some phones!'\n",
            "Cosine similarity: 0.2448\n",
            "Dot product similarity: 0.2448\n",
            "\n",
            "Now it's your turn! Try comparing different sentences and have fun exploring similarities!\n",
            "1. Compare sentences with similar meanings but different words.\n",
            "2. Try sentences with the same words in different orders.\n",
            "3. Experiment with sentences from different domains or languages.\n",
            "\n",
            "Reflection questions:\n",
            "1. How do cosine similarity and dot product similarity yield identical results in the given examples? What does this reveal about their mathematical properties?\n",
            "2. What types of sentences seem to have high similarity? Low similarity?\n"
          ]
        }
      ]
    },
    {
      "cell_type": "code",
      "source": [
        "import numpy as np\n",
        "import matplotlib.pyplot as plt\n",
        "\n",
        "# Generate correlated random points\n",
        "mean = [0, 0]\n",
        "cov = [[1, 0.8], [0.8, 1]]  # Covariance matrix with correlation\n",
        "points = np.random.multivariate_normal(mean, cov, 100)\n",
        "X = points[:, 0].T\n",
        "y = points[:, 1].T\n",
        "\n",
        "# Plot the data points\n",
        "plt.scatter(X, y)\n",
        "plt.xlabel('X')\n",
        "plt.ylabel('y')\n",
        "plt.title('Correlated Random Points')\n",
        "plt.show()\n",
        "\n",
        "# Create the design matrix [X 1]\n",
        "X_design = #your code here ...\n",
        "\n",
        "# Calculate the pseudo-inverse\n",
        "X_pseudo_inv = #your code here ...\n",
        "\n",
        "\n",
        "# Calculate the coefficients\n",
        "coefficients = #your code here ...\n",
        "\n",
        "\n",
        "# Print the coefficients\n",
        "print(f\"Estimated coefficients: {coefficients.flatten()}\")\n",
        "\n",
        "# Plot the results\n",
        "plt.scatter(X, y, label='Data points')\n",
        "plt.plot(X, X_design.T.dot(coefficients), color='red', label='Linear model')\n",
        "plt.xlabel('X')\n",
        "plt.ylabel('y')\n",
        "plt.legend()\n",
        "plt.title('Linear Regression using Pseudo-Inverse')\n",
        "plt.show()\n"
      ],
      "metadata": {
        "colab": {
          "base_uri": "https://localhost:8080/",
          "height": 106
        },
        "id": "hd3nsTVAzlCR",
        "outputId": "a94ad1a5-8ae0-49c9-ed0f-9e632d62ff8b"
      },
      "execution_count": null,
      "outputs": [
        {
          "output_type": "error",
          "ename": "SyntaxError",
          "evalue": "invalid syntax (<ipython-input-18-d37e7b4594d1>, line 19)",
          "traceback": [
            "\u001b[0;36m  File \u001b[0;32m\"<ipython-input-18-d37e7b4594d1>\"\u001b[0;36m, line \u001b[0;32m19\u001b[0m\n\u001b[0;31m    X_design = #your code here ...\u001b[0m\n\u001b[0m               ^\u001b[0m\n\u001b[0;31mSyntaxError\u001b[0m\u001b[0;31m:\u001b[0m invalid syntax\n"
          ]
        }
      ]
    },
    {
      "cell_type": "code",
      "source": [
        "\n",
        "\n",
        "import torch\n",
        "\n",
        "# Create tensors\n",
        "tensor1 = torch.tensor([1, 2, 3,4])\n",
        "tensor2 = torch.tensor([4, 5, 6,8])\n",
        "\n",
        "# Basic operations\n",
        "print(\"Addition:\", tensor1 + tensor2)\n",
        "print(\"Multiplication:\", tensor1 * tensor2)\n",
        "\n",
        "# Concatenation\n",
        "concat_result = torch.cat((tensor1, tensor2))\n",
        "print(\"Concatenation:\", concat_result)\n",
        "\n",
        "# Reshape\n",
        "reshaped = concat_result.reshape(2, 4)\n",
        "print(\"Reshaped tensor:\")\n",
        "print(reshaped)\n",
        "\n",
        "# Plot a PyTorch tensor\n",
        "plt.plot(tensor1.numpy(), tensor2.numpy()**2, 'ro-')\n",
        "plt.xlabel('Tensor 1')\n",
        "plt.ylabel('Tensor 2')\n",
        "plt.title('PyTorch Tensor Plot')\n",
        "plt.show()\n",
        "\n",
        "# Task for students:\n",
        "# 1. Create two 2D tensors and perform matrix multiplication\n",
        "# 2. Use torch.randn() to create a random tensor and calculate its mean and standard deviation\n"
      ],
      "metadata": {
        "colab": {
          "base_uri": "https://localhost:8080/",
          "height": 576
        },
        "id": "0r2Ti5TF5KXq",
        "outputId": "f7267a08-45d3-44e9-add0-b5bc07e1d991"
      },
      "execution_count": null,
      "outputs": [
        {
          "output_type": "stream",
          "name": "stdout",
          "text": [
            "Addition: tensor([ 5,  7,  9, 12])\n",
            "Multiplication: tensor([ 4, 10, 18, 32])\n",
            "Concatenation: tensor([1, 2, 3, 4, 4, 5, 6, 8])\n",
            "Reshaped tensor:\n",
            "tensor([[1, 2, 3, 4],\n",
            "        [4, 5, 6, 8]])\n"
          ]
        },
        {
          "output_type": "display_data",
          "data": {
            "text/plain": [
              "<Figure size 640x480 with 1 Axes>"
            ],
            "image/png": "[encoded data removed]"
          },
          "metadata": {}
        }
      ]
    }
  ]
}